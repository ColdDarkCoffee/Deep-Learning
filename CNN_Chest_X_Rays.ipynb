{
  "nbformat": 4,
  "nbformat_minor": 0,
  "metadata": {
    "colab": {
      "name": "CNN_Chest_X_Rays.ipynb",
      "provenance": [],
      "authorship_tag": "ABX9TyPN1QuuoXryRiLzPlbPKwXL",
      "include_colab_link": true
    },
    "kernelspec": {
      "name": "python3",
      "display_name": "Python 3"
    },
    "language_info": {
      "name": "python"
    },
    "accelerator": "GPU"
  },
  "cells": [
    {
      "cell_type": "markdown",
      "metadata": {
        "id": "view-in-github",
        "colab_type": "text"
      },
      "source": [
        "<a href=\"https://colab.research.google.com/github/ColdDarkCoffee/Deep-Learning/blob/main/CNN_Chest_X_Rays.ipynb\" target=\"_parent\"><img src=\"https://colab.research.google.com/assets/colab-badge.svg\" alt=\"Open In Colab\"/></a>"
      ]
    },
    {
      "cell_type": "code",
      "source": [
        "from google.colab import drive\n",
        "drive.mount('/content/drive')"
      ],
      "metadata": {
        "colab": {
          "base_uri": "https://localhost:8080/"
        },
        "id": "6kGqi1U8U17M",
        "outputId": "0cd8b259-7ab1-4113-923d-7e877e09f9b2"
      },
      "execution_count": null,
      "outputs": [
        {
          "output_type": "stream",
          "name": "stdout",
          "text": [
            "Mounted at /content/drive\n"
          ]
        }
      ]
    },
    {
      "cell_type": "code",
      "execution_count": null,
      "metadata": {
        "id": "t81gy0uXUxX1"
      },
      "outputs": [],
      "source": [
        "train_data = '/content/drive/MyDrive/chest_xray/train'"
      ]
    },
    {
      "cell_type": "code",
      "source": [
        "import tensorflow as tf\n",
        "from tensorflow.keras.preprocessing.image import ImageDataGenerator \n",
        "import numpy as np\n",
        "import matplotlib.pyplot as plt \n",
        "import keras"
      ],
      "metadata": {
        "id": "3IVqRGBRVbIS"
      },
      "execution_count": null,
      "outputs": []
    },
    {
      "cell_type": "code",
      "source": [
        "tf.random.set_seed(42)"
      ],
      "metadata": {
        "id": "7BBCVBBzV13o"
      },
      "execution_count": null,
      "outputs": []
    },
    {
      "cell_type": "code",
      "source": [
        "# Making the data directories\n",
        "\n",
        "# Preprocess data (get all of the pixel values between 1 and 0, also called scaling/normalization)\n",
        "train_datagen = ImageDataGenerator(rescale=1./255)\n",
        "valid_datagen = ImageDataGenerator(rescale=1./255)\n",
        "\n",
        "# Setup the train and test directories\n",
        "train_dir = \"/content/drive/MyDrive/chest_xray/train\"\n",
        "test_dir = \"/content/drive/MyDrive/chest_xray/test\""
      ],
      "metadata": {
        "id": "C33rZbAUVr_v"
      },
      "execution_count": null,
      "outputs": []
    },
    {
      "cell_type": "code",
      "source": [
        "train_data = train_datagen.flow_from_directory(train_dir,\n",
        "                                              batch_size=32, # number of images to process at a time \n",
        "                                              target_size=(224, 224), # convert all images to be 224 x 224\n",
        "                                              class_mode=\"binary\", # type of problem we're working on\n",
        "                                              seed=42)\n",
        "valid_data = valid_datagen.flow_from_directory(test_dir,\n",
        "                                               batch_size=32,\n",
        "                                               target_size=(224, 224),\n",
        "                                               class_mode=\"binary\",\n",
        "                                               seed=42)"
      ],
      "metadata": {
        "colab": {
          "base_uri": "https://localhost:8080/"
        },
        "id": "fEPRt5mGWD-P",
        "outputId": "95426694-241a-4273-ffb1-eff04a225f05"
      },
      "execution_count": null,
      "outputs": [
        {
          "output_type": "stream",
          "name": "stdout",
          "text": [
            "Found 5216 images belonging to 2 classes.\n",
            "Found 624 images belonging to 2 classes.\n"
          ]
        }
      ]
    },
    {
      "cell_type": "code",
      "source": [
        "model_1 = tf.keras.models.Sequential([\n",
        "  tf.keras.layers.Conv2D(filters=10, \n",
        "                         kernel_size=3, # can also be (3, 3)\n",
        "                         activation=\"relu\", \n",
        "                         input_shape=(224, 224, 3)), # first layer specifies input shape (height, width, colour channels)\n",
        "  tf.keras.layers.Conv2D(10, 3, activation=\"relu\"),\n",
        "  tf.keras.layers.MaxPool2D(pool_size=2, # pool_size can also be (2, 2)\n",
        "                            padding=\"valid\"), # padding can also be 'same'\n",
        "  tf.keras.layers.Conv2D(10, 3, activation=\"relu\"),\n",
        "  tf.keras.layers.Conv2D(10, 3, activation=\"relu\"), # activation='relu' == tf.keras.layers.Activations(tf.nn.relu)\n",
        "  tf.keras.layers.MaxPool2D(2),\n",
        "  tf.keras.layers.Flatten(),\n",
        "  tf.keras.layers.Dense(1, activation=\"sigmoid\") # binary activation output\n",
        "])\n",
        "\n",
        "# Compile the model\n",
        "model_1.compile(loss=\"binary_crossentropy\",\n",
        "              optimizer=tf.keras.optimizers.Adam(),\n",
        "              metrics=[\"accuracy\"])\n",
        "\n",
        "# Fit the model\n",
        "history_1 = model_1.fit(train_data,\n",
        "                        epochs=5,\n",
        "                        steps_per_epoch=len(train_data),\n",
        "                        validation_data=valid_data,\n",
        "                        validation_steps=len(valid_data))"
      ],
      "metadata": {
        "colab": {
          "base_uri": "https://localhost:8080/"
        },
        "id": "0Qh6c1L3Wrg5",
        "outputId": "5e5547fd-8c88-4438-cbc9-8fc93e75def7"
      },
      "execution_count": null,
      "outputs": [
        {
          "output_type": "stream",
          "name": "stdout",
          "text": [
            "Epoch 1/5\n",
            "163/163 [==============================] - 2741s 17s/step - loss: 0.2390 - accuracy: 0.8970 - val_loss: 0.7303 - val_accuracy: 0.7356\n",
            "Epoch 2/5\n",
            "163/163 [==============================] - 83s 512ms/step - loss: 0.1043 - accuracy: 0.9618 - val_loss: 0.5885 - val_accuracy: 0.7869\n",
            "Epoch 3/5\n",
            "163/163 [==============================] - 83s 508ms/step - loss: 0.0910 - accuracy: 0.9641 - val_loss: 0.9067 - val_accuracy: 0.7404\n",
            "Epoch 4/5\n",
            "163/163 [==============================] - 83s 508ms/step - loss: 0.0717 - accuracy: 0.9739 - val_loss: 1.1249 - val_accuracy: 0.7548\n",
            "Epoch 5/5\n",
            "163/163 [==============================] - 83s 508ms/step - loss: 0.0581 - accuracy: 0.9806 - val_loss: 1.6226 - val_accuracy: 0.6939\n"
          ]
        }
      ]
    },
    {
      "cell_type": "code",
      "source": [
        "from "
      ],
      "metadata": {
        "id": "9AK4A_j7XNQL"
      },
      "execution_count": null,
      "outputs": []
    }
  ]
}